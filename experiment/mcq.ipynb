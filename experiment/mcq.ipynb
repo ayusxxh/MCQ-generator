{
 "cells": [
  {
   "cell_type": "code",
   "execution_count": 27,
   "metadata": {},
   "outputs": [],
   "source": [
    "import os\n",
    "import json \n",
    "import pandas as pd\n",
    "import traceback"
   ]
  },
  {
   "cell_type": "code",
   "execution_count": 28,
   "metadata": {},
   "outputs": [],
   "source": [
    "import langchain_community"
   ]
  },
  {
   "cell_type": "code",
   "execution_count": 29,
   "metadata": {},
   "outputs": [],
   "source": [
    "from langchain.chat_models import ChatOpenAI"
   ]
  },
  {
   "cell_type": "code",
   "execution_count": 30,
   "metadata": {},
   "outputs": [
    {
     "data": {
      "text/plain": [
       "True"
      ]
     },
     "execution_count": 30,
     "metadata": {},
     "output_type": "execute_result"
    }
   ],
   "source": [
    "from dotenv import load_dotenv\n",
    "\n",
    "load_dotenv()"
   ]
  },
  {
   "cell_type": "code",
   "execution_count": 31,
   "metadata": {},
   "outputs": [],
   "source": [
    "KEY= os.getenv(\"OPENAI_API_KEY\")"
   ]
  },
  {
   "cell_type": "code",
   "execution_count": 32,
   "metadata": {},
   "outputs": [],
   "source": [
    "llm= ChatOpenAI(openai_api_key= KEY, model_name= \"gpt-3.5-turbo\", temperature= 0.5)"
   ]
  },
  {
   "cell_type": "code",
   "execution_count": 33,
   "metadata": {},
   "outputs": [
    {
     "data": {
      "text/plain": [
       "ChatOpenAI(client=<openai.resources.chat.completions.Completions object at 0x000001A5419F17C0>, async_client=<openai.resources.chat.completions.AsyncCompletions object at 0x000001A5419EFF40>, temperature=0.5, openai_api_key='sk-proj-Yn2iwjKb9u2BGje9WiLqT3BlbkFJsPwxtLmiHo69qCpfCBbP', openai_proxy='')"
      ]
     },
     "execution_count": 33,
     "metadata": {},
     "output_type": "execute_result"
    }
   ],
   "source": [
    "llm"
   ]
  },
  {
   "cell_type": "code",
   "execution_count": 34,
   "metadata": {},
   "outputs": [],
   "source": [
    "from langchain.llms import OpenAI\n",
    "from langchain.prompts import PromptTemplate\n",
    "from langchain.chains import LLMChain, SequentialChain\n",
    "from langchain.callbacks import get_openai_callback\n",
    "import PyPDF2"
   ]
  },
  {
   "cell_type": "code",
   "execution_count": 35,
   "metadata": {},
   "outputs": [],
   "source": [
    "RESPONSE_JSON = {\n",
    "    \"1\": {\n",
    "        \"mcq\": \"multiple choice question\",\n",
    "        \"options\": {\n",
    "            \"a\": \"choice here\",\n",
    "            \"b\": \"choice here\",\n",
    "            \"c\": \"choice here\",\n",
    "            \"d\": \"choice here\",\n",
    "        },\n",
    "        \"correct\": \"correct answer\",\n",
    "    },\n",
    "    \"2\": {\n",
    "        \"mcq\": \"multiple choice question\",\n",
    "        \"options\": {\n",
    "            \"a\": \"choice here\",\n",
    "            \"b\": \"choice here\",\n",
    "            \"c\": \"choice here\",\n",
    "            \"d\": \"choice here\",\n",
    "        },\n",
    "        \"correct\": \"correct answer\",\n",
    "    },\n",
    "    \"3\": {\n",
    "        \"mcq\": \"multiple choice question\",\n",
    "        \"options\": {\n",
    "            \"a\": \"choice here\",\n",
    "            \"b\": \"choice here\",\n",
    "            \"c\": \"choice here\",\n",
    "            \"d\": \"choice here\",\n",
    "        },\n",
    "        \"correct\": \"correct answer\",\n",
    "    },\n",
    "}"
   ]
  },
  {
   "cell_type": "code",
   "execution_count": 36,
   "metadata": {},
   "outputs": [],
   "source": [
    "TEMPELATE= \"\"\"\"\n",
    "Text:{text}\n",
    "You are an expert MCQ maker. Given the above text, it is your job to \\ \n",
    "create a quiz of {number} multiple choice questions for {subject} students in {tone} tone.\n",
    "Make sure that the questions are not repeated and check all the questions to be confirming the text as well. \n",
    "Make sure to format your response like RESPONSE_JSON below and use it as a guide. \\\n",
    "Ensure to make {number} MCQs\n",
    "### RESPONSE_JSON\n",
    "{response_json}\n",
    " \n",
    " \"\"\""
   ]
  },
  {
   "cell_type": "code",
   "execution_count": 37,
   "metadata": {},
   "outputs": [],
   "source": [
    "quiz_generation_prompt= PromptTemplate(\n",
    "    input_variables= [\"text\", \"number\", \"subject\", \"tone\", \"response_json\"],\n",
    "    template= TEMPELATE\n",
    ")"
   ]
  },
  {
   "cell_type": "code",
   "execution_count": 38,
   "metadata": {},
   "outputs": [],
   "source": [
    "quiz_chain= LLMChain(llm= llm, prompt= quiz_generation_prompt, output_key= \"quiz\", verbose= True)"
   ]
  },
  {
   "cell_type": "code",
   "execution_count": 39,
   "metadata": {},
   "outputs": [],
   "source": [
    "TEMPLATE2=\"\"\"\n",
    "You are an expert english grammarian and writer. Given a Multiple Choice Quiz for {subject} students.\\\n",
    "You need to evaluate the complexity of the question and give a complete analysis of the quiz. Only use at max 50 words for complexity analysis. \n",
    "if the quiz is not at per with the cognitive and analytical abilities of the students,\\\n",
    "update the quiz questions which needs to be changed and change the tone such that it perfectly fits the student abilities\n",
    "Quiz_MCQs:\n",
    "{quiz}\n",
    "\n",
    "Check from an expert English Writer of the above quiz:\n",
    "\"\"\""
   ]
  },
  {
   "cell_type": "code",
   "execution_count": 40,
   "metadata": {},
   "outputs": [],
   "source": [
    "quiz_evaluaion_prompt= PromptTemplate(input_variables=[\"subject\", \"quiz\"], template= TEMPELATE)"
   ]
  },
  {
   "cell_type": "code",
   "execution_count": 41,
   "metadata": {},
   "outputs": [],
   "source": [
    "review_chain= LLMChain(llm= llm, prompt= quiz_evaluaion_prompt, output_key= \"review\", verbose= True)"
   ]
  },
  {
   "cell_type": "code",
   "execution_count": 42,
   "metadata": {},
   "outputs": [],
   "source": [
    "generate_evaluate_chain=SequentialChain(chains=[quiz_chain, review_chain], input_variables=[\"text\", \"number\", \"subject\", \"tone\", \"response_json\"],\n",
    "                                        output_variables=[\"quiz\", \"review\"], verbose=True,)"
   ]
  },
  {
   "cell_type": "code",
   "execution_count": 43,
   "metadata": {},
   "outputs": [],
   "source": [
    "file_path= r\"C:\\Users\\ayush\\last\\data.txt\""
   ]
  },
  {
   "cell_type": "code",
   "execution_count": 44,
   "metadata": {},
   "outputs": [
    {
     "data": {
      "text/plain": [
       "'C:\\\\Users\\\\ayush\\\\last\\\\data.txt'"
      ]
     },
     "execution_count": 44,
     "metadata": {},
     "output_type": "execute_result"
    }
   ],
   "source": [
    "file_path"
   ]
  },
  {
   "cell_type": "code",
   "execution_count": 45,
   "metadata": {},
   "outputs": [],
   "source": [
    "with open(file_path, 'r') as file:\n",
    "    TEXT = file.read()"
   ]
  },
  {
   "cell_type": "code",
   "execution_count": 46,
   "metadata": {},
   "outputs": [
    {
     "name": "stdout",
     "output_type": "stream",
     "text": [
      "The Heroes of Olympus is a pentalogy of fantasy-adventure novels written by American author Rick Riordan. The novels detail a conflict between Greek demigods, Roman demigods, and Gaea. In the fourth book of the series, there is also a fight against Tartarus, which, in Greek mythology, was the darkest and deepest point of the Underworld.\n",
      "\n",
      "The series can be read as a standalone volume, but is meant to be read after Percy Jackson & the Olympians. Riordan introduces Roman mythology in the series alongside several new characters, primarily from the Roman Camp Jupiter. The first book of the series, The Lost Hero, was published on October 12, 2010.[4] The final entry in the series, The Blood of Olympus, was published on October 7, 2014.[5] The story is continued in the sequel series The Trials of Apollo.\n",
      "The Heroes of Olympus is centered around a prophecy, introduced in The Last Olympian, that predicted seven demigods would unite to protect the world from an awakening new enemy, the Earth goddess Gaea. Demigods from both the Greek camp, Camp Half-Blood, and a newfound Roman camp, Camp Jupiter, unite to save the world from being destroyed by Gaea. The prophecy reads:\n",
      "\n",
      "\"Seven half-bloods shall answer the call\n",
      "To storm or fire, the world must fall.\n",
      "An oath to keep with a final breath,\n",
      "And foes bear arms to the Doors of Death.\"\n",
      "\n",
      "Seven demigods—Annabeth Chase, Leo Valdez, Percy Jackson and Piper McLean from Camp Half-Blood, with Jason Grace, Frank Zhang, and Hazel Levesque from Camp Jupiter—join forces. Some other important characters are Nico di Angelo, son of Hades; Reyna Avila Ramirez-Arellano, Praetor of Camp Jupiter and daughter of Bellona; and Gleeson Hedge, a satyr.\n",
      "The novel begins by introducing Jason Grace, Piper McLean and Leo Valdez, three newly discovered demigods who travel to Camp Half-Blood in response to a prophecy. They set off on a quest to prevent the rebirth of the giant king Porphyrion and rescue Piper's father, who has been kidnapped by another giant, Enceladus. Jason, who has amnesia, also begins to remember pieces of his past throughout the book - most importantly, that he comes from a Roman camp for demigods. Camp Half-Blood resolves to seek out this other camp both to gain allies in the fight against Gaea, the giants' mother and commander, and to locate the missing demigod Percy Jackson.\n",
      "The novel opens with Percy Jackson, struck with amnesia, discovering Camp Jupiter and meeting several Roman demigods. After receiving a prophecy from Mars, Percy, Frank Zhang, and Hazel Levesque travel to Alaska to stop the rise of the giant Alcyoneus and free the god Thanatos, whom the giant has captured. After successfully completing their mission, the group returns to Camp Jupiter to defend it from yet another giant, Polybotes, and his army. After repelling this invasion, the demigods from Camp Jupiter go to meet the delegation from Camp Half-Blood arriving in the flying ship known as the Argo II.[6] This book is set in June.\n",
      "After the Argo II unintentionally fires on Camp Jupiter, the seven demigods of the \"Prophecy of Seven\" — Percy Jackson, Annabeth Chase, Leo Valdez, Piper McLean, Jason Grace, Frank Zhang, and Hazel Levesque — rush to escape the angered Roman campers. The Argo II is damaged, and the group splits up to find supplies to help Leo fix it. Hazel and Leo go out to try to find Celestial bronze and lime for calcium carbonate when they encounter Nemesis, the universal (meaning Roman and Greek) goddess of revenge. Nemesis's form is different for both Leo and Hazel, Leo seeing his Aunt Rosa and Hazel seeing one of her old teachers. Nemesis tells Leo that the gods are split between their Greek and Roman forms, making them disoriented and confused. This means a civil war is on the rise between the Romans and the Greeks. Nemesis tells Leo that he will be the \"seventh wheel\", and not fit in with the Seven. She also tells Leo that he will stumble upon a problem that he cannot solve. Nemesis offers Leo help — for a price. She leaves Leo and Hazel frazzled, confused, and angry. The Seven travel to Rome, guided by the \"Mark of Athena\", a magical talisman designed to lead children of Athena to the missing Athena Parthenos. During their journey, they hear that Nico di Angelo has been captured by the Aloadae, and go to rescue him. Although they successfully free him and locate the statue, Annabeth and Percy are pulled into Tartarus by Gaea, and Nico promises Percy to get the other demigods to the \"Doors of Death\".[7] This book is set between June and July.\n",
      "In Tartarus, Percy and Annabeth travel towards the \"Doors of Death\", the only pathway back to the mortal world, with help from Bob the Titan, hoping to escape and simultaneously stop more monsters from getting through. In the mortal world, the remaining demigods search for the mortal side of the Doors to help open them. They also meet with Reyna Avila Ramírez-Arellano, a Roman demigod; she, Nico, and Coach Hedge leave with the Athena Parthenos from Epirus, Greece, and Shadow Travel to Camp Half-Blood. Once reunited, the original seven sail for Greece, where they expect Gaea's main force will gather.[8] This book is set in the first half of July.\n",
      "Percy Jackson: The 16-year-old son of Poseidon from Camp Half-Blood. He is the narrator and main protagonist of the preceding series Percy Jackson & the Olympians. In The Son of Neptune, he is depicted fighting amnesia, given to him by the goddess Hera, during which his only memory is his girlfriend, Annabeth Chase.\n",
      "Annabeth Chase: The 16-year-old daughter of Athena, credited as \"the smartest girl in camp\" by Percy. She is also a gifted and dedicated architect.\n",
      "Piper McLean: The 15-year-old daughter of Aphrodite. She is one of the few children of Aphrodite who have the rare hereditary gift of \"charmspeak\" (the ability to magically convince people to do what the person in question says) and is described as beautiful by Jason Grace. She carries a knife called Katoptris (previously owned by Helen of Troy) that shows her visions of the future. She begins dating Jason during the series.\n",
      "Leo Valdez: The 15-year-old son of Hephaestus who can summon and control fire, a rare ability. He is famous among his cabinmates for repairing the automated bronze dragon Festus, who had given more experienced campers life-altering disabilities. He leads the building of the Argo II.\n",
      "Nico di Angelo: The 14-year-old son of Hades. Born in the 1930s in Italy, his father Hades sent him and his sister to the Lotus Hotel and Casino, that sucked them out of time for decades, so he only feels and looks 14. He was the only demigod who had knowledge of both camps before the war.\n",
      "Gleeson Hedge: A middle-aged satyr, formerly a coach at the Wilderness School. He joins the crew of the Argo II as the self-appointed chaperone.\n",
      "Thalia Grace: Lieutenant to Artemis and the Hunters of Artemis, who physically appears to be about 15. Was killed and her soul preserved as a tree prior to and during the first and second books of Percy Jackson and the Olympians. She is Jason Grace's biological sister, but a daughter of Zeus rather than Jupiter (Jupiter and Zeus are the same god in different aspects, making Jason a child of Rome and Thalia a child of Greece).\n",
      "Tyson: Percy's half-brother, and a cyclops. He loves peanut butter and is the boyfriend of Ella the harpy.\n",
      "Rachel Elizabeth Dare: Camp Half-Blood's oracle. She is neither a demigod nor a legacy, but a regular mortal human who was born with the gift to see through the Mist. She is the current Oracle, being a vessel for the Spirit of Delphi.\n",
      "Grover Underwood: Percy's best friend, and a satyr; he and Percy have an empathy link that allows them to sense one another. He is also gifted by Pan, the lord of the wild.\n",
      "Jason Grace: The 16-year-old son of Jupiter who can fly, control winds and lightning, and create storms. He is a natural-born leader and was a praetor before Hera took his memory and sent him to Camp Half-Blood.\n",
      "Hazel Levesque: The 14-year-old daughter of Pluto (the Roman aspect of Hades). She originally lived in the 1940s before dying to stop the rise of Alcyoneus and later being revived by her half-brother Nico. She can control precious metals and stones, navigate underground, and manipulate the Mist.\n",
      "Frank Zhang: The 16-year-old son of Mars, the Roman aspect of Ares and a descendant of Poseidon on his mother's side. He has shapeshifting abilities.\n",
      "Reyna Avila Ramírez-Arellano: The 16-year-old daughter of the Roman goddess of war, Bellona.\n",
      "\n"
     ]
    }
   ],
   "source": [
    "print(TEXT)"
   ]
  },
  {
   "cell_type": "code",
   "execution_count": 47,
   "metadata": {},
   "outputs": [
    {
     "data": {
      "text/plain": [
       "'{\"1\": {\"mcq\": \"multiple choice question\", \"options\": {\"a\": \"choice here\", \"b\": \"choice here\", \"c\": \"choice here\", \"d\": \"choice here\"}, \"correct\": \"correct answer\"}, \"2\": {\"mcq\": \"multiple choice question\", \"options\": {\"a\": \"choice here\", \"b\": \"choice here\", \"c\": \"choice here\", \"d\": \"choice here\"}, \"correct\": \"correct answer\"}, \"3\": {\"mcq\": \"multiple choice question\", \"options\": {\"a\": \"choice here\", \"b\": \"choice here\", \"c\": \"choice here\", \"d\": \"choice here\"}, \"correct\": \"correct answer\"}}'"
      ]
     },
     "execution_count": 47,
     "metadata": {},
     "output_type": "execute_result"
    }
   ],
   "source": [
    "json.dumps(RESPONSE_JSON)\n"
   ]
  },
  {
   "cell_type": "code",
   "execution_count": 48,
   "metadata": {},
   "outputs": [],
   "source": [
    "NUMBER=5 \n",
    "SUBJECT=\"fiction\"\n",
    "TONE=\"simple\""
   ]
  },
  {
   "cell_type": "code",
   "execution_count": 49,
   "metadata": {},
   "outputs": [
    {
     "name": "stdout",
     "output_type": "stream",
     "text": [
      "\n",
      "\n",
      "\u001b[1m> Entering new SequentialChain chain...\u001b[0m\n",
      "\n",
      "\n",
      "\u001b[1m> Entering new LLMChain chain...\u001b[0m\n",
      "Prompt after formatting:\n",
      "\u001b[32;1m\u001b[1;3m\"\n",
      "Text:The Heroes of Olympus is a pentalogy of fantasy-adventure novels written by American author Rick Riordan. The novels detail a conflict between Greek demigods, Roman demigods, and Gaea. In the fourth book of the series, there is also a fight against Tartarus, which, in Greek mythology, was the darkest and deepest point of the Underworld.\n",
      "\n",
      "The series can be read as a standalone volume, but is meant to be read after Percy Jackson & the Olympians. Riordan introduces Roman mythology in the series alongside several new characters, primarily from the Roman Camp Jupiter. The first book of the series, The Lost Hero, was published on October 12, 2010.[4] The final entry in the series, The Blood of Olympus, was published on October 7, 2014.[5] The story is continued in the sequel series The Trials of Apollo.\n",
      "The Heroes of Olympus is centered around a prophecy, introduced in The Last Olympian, that predicted seven demigods would unite to protect the world from an awakening new enemy, the Earth goddess Gaea. Demigods from both the Greek camp, Camp Half-Blood, and a newfound Roman camp, Camp Jupiter, unite to save the world from being destroyed by Gaea. The prophecy reads:\n",
      "\n",
      "\"Seven half-bloods shall answer the call\n",
      "To storm or fire, the world must fall.\n",
      "An oath to keep with a final breath,\n",
      "And foes bear arms to the Doors of Death.\"\n",
      "\n",
      "Seven demigods—Annabeth Chase, Leo Valdez, Percy Jackson and Piper McLean from Camp Half-Blood, with Jason Grace, Frank Zhang, and Hazel Levesque from Camp Jupiter—join forces. Some other important characters are Nico di Angelo, son of Hades; Reyna Avila Ramirez-Arellano, Praetor of Camp Jupiter and daughter of Bellona; and Gleeson Hedge, a satyr.\n",
      "The novel begins by introducing Jason Grace, Piper McLean and Leo Valdez, three newly discovered demigods who travel to Camp Half-Blood in response to a prophecy. They set off on a quest to prevent the rebirth of the giant king Porphyrion and rescue Piper's father, who has been kidnapped by another giant, Enceladus. Jason, who has amnesia, also begins to remember pieces of his past throughout the book - most importantly, that he comes from a Roman camp for demigods. Camp Half-Blood resolves to seek out this other camp both to gain allies in the fight against Gaea, the giants' mother and commander, and to locate the missing demigod Percy Jackson.\n",
      "The novel opens with Percy Jackson, struck with amnesia, discovering Camp Jupiter and meeting several Roman demigods. After receiving a prophecy from Mars, Percy, Frank Zhang, and Hazel Levesque travel to Alaska to stop the rise of the giant Alcyoneus and free the god Thanatos, whom the giant has captured. After successfully completing their mission, the group returns to Camp Jupiter to defend it from yet another giant, Polybotes, and his army. After repelling this invasion, the demigods from Camp Jupiter go to meet the delegation from Camp Half-Blood arriving in the flying ship known as the Argo II.[6] This book is set in June.\n",
      "After the Argo II unintentionally fires on Camp Jupiter, the seven demigods of the \"Prophecy of Seven\" — Percy Jackson, Annabeth Chase, Leo Valdez, Piper McLean, Jason Grace, Frank Zhang, and Hazel Levesque — rush to escape the angered Roman campers. The Argo II is damaged, and the group splits up to find supplies to help Leo fix it. Hazel and Leo go out to try to find Celestial bronze and lime for calcium carbonate when they encounter Nemesis, the universal (meaning Roman and Greek) goddess of revenge. Nemesis's form is different for both Leo and Hazel, Leo seeing his Aunt Rosa and Hazel seeing one of her old teachers. Nemesis tells Leo that the gods are split between their Greek and Roman forms, making them disoriented and confused. This means a civil war is on the rise between the Romans and the Greeks. Nemesis tells Leo that he will be the \"seventh wheel\", and not fit in with the Seven. She also tells Leo that he will stumble upon a problem that he cannot solve. Nemesis offers Leo help — for a price. She leaves Leo and Hazel frazzled, confused, and angry. The Seven travel to Rome, guided by the \"Mark of Athena\", a magical talisman designed to lead children of Athena to the missing Athena Parthenos. During their journey, they hear that Nico di Angelo has been captured by the Aloadae, and go to rescue him. Although they successfully free him and locate the statue, Annabeth and Percy are pulled into Tartarus by Gaea, and Nico promises Percy to get the other demigods to the \"Doors of Death\".[7] This book is set between June and July.\n",
      "In Tartarus, Percy and Annabeth travel towards the \"Doors of Death\", the only pathway back to the mortal world, with help from Bob the Titan, hoping to escape and simultaneously stop more monsters from getting through. In the mortal world, the remaining demigods search for the mortal side of the Doors to help open them. They also meet with Reyna Avila Ramírez-Arellano, a Roman demigod; she, Nico, and Coach Hedge leave with the Athena Parthenos from Epirus, Greece, and Shadow Travel to Camp Half-Blood. Once reunited, the original seven sail for Greece, where they expect Gaea's main force will gather.[8] This book is set in the first half of July.\n",
      "Percy Jackson: The 16-year-old son of Poseidon from Camp Half-Blood. He is the narrator and main protagonist of the preceding series Percy Jackson & the Olympians. In The Son of Neptune, he is depicted fighting amnesia, given to him by the goddess Hera, during which his only memory is his girlfriend, Annabeth Chase.\n",
      "Annabeth Chase: The 16-year-old daughter of Athena, credited as \"the smartest girl in camp\" by Percy. She is also a gifted and dedicated architect.\n",
      "Piper McLean: The 15-year-old daughter of Aphrodite. She is one of the few children of Aphrodite who have the rare hereditary gift of \"charmspeak\" (the ability to magically convince people to do what the person in question says) and is described as beautiful by Jason Grace. She carries a knife called Katoptris (previously owned by Helen of Troy) that shows her visions of the future. She begins dating Jason during the series.\n",
      "Leo Valdez: The 15-year-old son of Hephaestus who can summon and control fire, a rare ability. He is famous among his cabinmates for repairing the automated bronze dragon Festus, who had given more experienced campers life-altering disabilities. He leads the building of the Argo II.\n",
      "Nico di Angelo: The 14-year-old son of Hades. Born in the 1930s in Italy, his father Hades sent him and his sister to the Lotus Hotel and Casino, that sucked them out of time for decades, so he only feels and looks 14. He was the only demigod who had knowledge of both camps before the war.\n",
      "Gleeson Hedge: A middle-aged satyr, formerly a coach at the Wilderness School. He joins the crew of the Argo II as the self-appointed chaperone.\n",
      "Thalia Grace: Lieutenant to Artemis and the Hunters of Artemis, who physically appears to be about 15. Was killed and her soul preserved as a tree prior to and during the first and second books of Percy Jackson and the Olympians. She is Jason Grace's biological sister, but a daughter of Zeus rather than Jupiter (Jupiter and Zeus are the same god in different aspects, making Jason a child of Rome and Thalia a child of Greece).\n",
      "Tyson: Percy's half-brother, and a cyclops. He loves peanut butter and is the boyfriend of Ella the harpy.\n",
      "Rachel Elizabeth Dare: Camp Half-Blood's oracle. She is neither a demigod nor a legacy, but a regular mortal human who was born with the gift to see through the Mist. She is the current Oracle, being a vessel for the Spirit of Delphi.\n",
      "Grover Underwood: Percy's best friend, and a satyr; he and Percy have an empathy link that allows them to sense one another. He is also gifted by Pan, the lord of the wild.\n",
      "Jason Grace: The 16-year-old son of Jupiter who can fly, control winds and lightning, and create storms. He is a natural-born leader and was a praetor before Hera took his memory and sent him to Camp Half-Blood.\n",
      "Hazel Levesque: The 14-year-old daughter of Pluto (the Roman aspect of Hades). She originally lived in the 1940s before dying to stop the rise of Alcyoneus and later being revived by her half-brother Nico. She can control precious metals and stones, navigate underground, and manipulate the Mist.\n",
      "Frank Zhang: The 16-year-old son of Mars, the Roman aspect of Ares and a descendant of Poseidon on his mother's side. He has shapeshifting abilities.\n",
      "Reyna Avila Ramírez-Arellano: The 16-year-old daughter of the Roman goddess of war, Bellona.\n",
      "\n",
      "You are an expert MCQ maker. Given the above text, it is your job to \\ \n",
      "create a quiz of 5 multiple choice questions for fiction students in simple tone.\n",
      "Make sure that the questions are not repeated and check all the questions to be confirming the text as well. \n",
      "Make sure to format your response like RESPONSE_JSON below and use it as a guide. Ensure to make 5 MCQs\n",
      "### RESPONSE_JSON\n",
      "{\"1\": {\"mcq\": \"multiple choice question\", \"options\": {\"a\": \"choice here\", \"b\": \"choice here\", \"c\": \"choice here\", \"d\": \"choice here\"}, \"correct\": \"correct answer\"}, \"2\": {\"mcq\": \"multiple choice question\", \"options\": {\"a\": \"choice here\", \"b\": \"choice here\", \"c\": \"choice here\", \"d\": \"choice here\"}, \"correct\": \"correct answer\"}, \"3\": {\"mcq\": \"multiple choice question\", \"options\": {\"a\": \"choice here\", \"b\": \"choice here\", \"c\": \"choice here\", \"d\": \"choice here\"}, \"correct\": \"correct answer\"}}\n",
      " \n",
      " \u001b[0m\n",
      "\n",
      "\u001b[1m> Finished chain.\u001b[0m\n",
      "\n",
      "\n",
      "\u001b[1m> Entering new LLMChain chain...\u001b[0m\n",
      "Prompt after formatting:\n",
      "\u001b[32;1m\u001b[1;3m\"\n",
      "Text:The Heroes of Olympus is a pentalogy of fantasy-adventure novels written by American author Rick Riordan. The novels detail a conflict between Greek demigods, Roman demigods, and Gaea. In the fourth book of the series, there is also a fight against Tartarus, which, in Greek mythology, was the darkest and deepest point of the Underworld.\n",
      "\n",
      "The series can be read as a standalone volume, but is meant to be read after Percy Jackson & the Olympians. Riordan introduces Roman mythology in the series alongside several new characters, primarily from the Roman Camp Jupiter. The first book of the series, The Lost Hero, was published on October 12, 2010.[4] The final entry in the series, The Blood of Olympus, was published on October 7, 2014.[5] The story is continued in the sequel series The Trials of Apollo.\n",
      "The Heroes of Olympus is centered around a prophecy, introduced in The Last Olympian, that predicted seven demigods would unite to protect the world from an awakening new enemy, the Earth goddess Gaea. Demigods from both the Greek camp, Camp Half-Blood, and a newfound Roman camp, Camp Jupiter, unite to save the world from being destroyed by Gaea. The prophecy reads:\n",
      "\n",
      "\"Seven half-bloods shall answer the call\n",
      "To storm or fire, the world must fall.\n",
      "An oath to keep with a final breath,\n",
      "And foes bear arms to the Doors of Death.\"\n",
      "\n",
      "Seven demigods—Annabeth Chase, Leo Valdez, Percy Jackson and Piper McLean from Camp Half-Blood, with Jason Grace, Frank Zhang, and Hazel Levesque from Camp Jupiter—join forces. Some other important characters are Nico di Angelo, son of Hades; Reyna Avila Ramirez-Arellano, Praetor of Camp Jupiter and daughter of Bellona; and Gleeson Hedge, a satyr.\n",
      "The novel begins by introducing Jason Grace, Piper McLean and Leo Valdez, three newly discovered demigods who travel to Camp Half-Blood in response to a prophecy. They set off on a quest to prevent the rebirth of the giant king Porphyrion and rescue Piper's father, who has been kidnapped by another giant, Enceladus. Jason, who has amnesia, also begins to remember pieces of his past throughout the book - most importantly, that he comes from a Roman camp for demigods. Camp Half-Blood resolves to seek out this other camp both to gain allies in the fight against Gaea, the giants' mother and commander, and to locate the missing demigod Percy Jackson.\n",
      "The novel opens with Percy Jackson, struck with amnesia, discovering Camp Jupiter and meeting several Roman demigods. After receiving a prophecy from Mars, Percy, Frank Zhang, and Hazel Levesque travel to Alaska to stop the rise of the giant Alcyoneus and free the god Thanatos, whom the giant has captured. After successfully completing their mission, the group returns to Camp Jupiter to defend it from yet another giant, Polybotes, and his army. After repelling this invasion, the demigods from Camp Jupiter go to meet the delegation from Camp Half-Blood arriving in the flying ship known as the Argo II.[6] This book is set in June.\n",
      "After the Argo II unintentionally fires on Camp Jupiter, the seven demigods of the \"Prophecy of Seven\" — Percy Jackson, Annabeth Chase, Leo Valdez, Piper McLean, Jason Grace, Frank Zhang, and Hazel Levesque — rush to escape the angered Roman campers. The Argo II is damaged, and the group splits up to find supplies to help Leo fix it. Hazel and Leo go out to try to find Celestial bronze and lime for calcium carbonate when they encounter Nemesis, the universal (meaning Roman and Greek) goddess of revenge. Nemesis's form is different for both Leo and Hazel, Leo seeing his Aunt Rosa and Hazel seeing one of her old teachers. Nemesis tells Leo that the gods are split between their Greek and Roman forms, making them disoriented and confused. This means a civil war is on the rise between the Romans and the Greeks. Nemesis tells Leo that he will be the \"seventh wheel\", and not fit in with the Seven. She also tells Leo that he will stumble upon a problem that he cannot solve. Nemesis offers Leo help — for a price. She leaves Leo and Hazel frazzled, confused, and angry. The Seven travel to Rome, guided by the \"Mark of Athena\", a magical talisman designed to lead children of Athena to the missing Athena Parthenos. During their journey, they hear that Nico di Angelo has been captured by the Aloadae, and go to rescue him. Although they successfully free him and locate the statue, Annabeth and Percy are pulled into Tartarus by Gaea, and Nico promises Percy to get the other demigods to the \"Doors of Death\".[7] This book is set between June and July.\n",
      "In Tartarus, Percy and Annabeth travel towards the \"Doors of Death\", the only pathway back to the mortal world, with help from Bob the Titan, hoping to escape and simultaneously stop more monsters from getting through. In the mortal world, the remaining demigods search for the mortal side of the Doors to help open them. They also meet with Reyna Avila Ramírez-Arellano, a Roman demigod; she, Nico, and Coach Hedge leave with the Athena Parthenos from Epirus, Greece, and Shadow Travel to Camp Half-Blood. Once reunited, the original seven sail for Greece, where they expect Gaea's main force will gather.[8] This book is set in the first half of July.\n",
      "Percy Jackson: The 16-year-old son of Poseidon from Camp Half-Blood. He is the narrator and main protagonist of the preceding series Percy Jackson & the Olympians. In The Son of Neptune, he is depicted fighting amnesia, given to him by the goddess Hera, during which his only memory is his girlfriend, Annabeth Chase.\n",
      "Annabeth Chase: The 16-year-old daughter of Athena, credited as \"the smartest girl in camp\" by Percy. She is also a gifted and dedicated architect.\n",
      "Piper McLean: The 15-year-old daughter of Aphrodite. She is one of the few children of Aphrodite who have the rare hereditary gift of \"charmspeak\" (the ability to magically convince people to do what the person in question says) and is described as beautiful by Jason Grace. She carries a knife called Katoptris (previously owned by Helen of Troy) that shows her visions of the future. She begins dating Jason during the series.\n",
      "Leo Valdez: The 15-year-old son of Hephaestus who can summon and control fire, a rare ability. He is famous among his cabinmates for repairing the automated bronze dragon Festus, who had given more experienced campers life-altering disabilities. He leads the building of the Argo II.\n",
      "Nico di Angelo: The 14-year-old son of Hades. Born in the 1930s in Italy, his father Hades sent him and his sister to the Lotus Hotel and Casino, that sucked them out of time for decades, so he only feels and looks 14. He was the only demigod who had knowledge of both camps before the war.\n",
      "Gleeson Hedge: A middle-aged satyr, formerly a coach at the Wilderness School. He joins the crew of the Argo II as the self-appointed chaperone.\n",
      "Thalia Grace: Lieutenant to Artemis and the Hunters of Artemis, who physically appears to be about 15. Was killed and her soul preserved as a tree prior to and during the first and second books of Percy Jackson and the Olympians. She is Jason Grace's biological sister, but a daughter of Zeus rather than Jupiter (Jupiter and Zeus are the same god in different aspects, making Jason a child of Rome and Thalia a child of Greece).\n",
      "Tyson: Percy's half-brother, and a cyclops. He loves peanut butter and is the boyfriend of Ella the harpy.\n",
      "Rachel Elizabeth Dare: Camp Half-Blood's oracle. She is neither a demigod nor a legacy, but a regular mortal human who was born with the gift to see through the Mist. She is the current Oracle, being a vessel for the Spirit of Delphi.\n",
      "Grover Underwood: Percy's best friend, and a satyr; he and Percy have an empathy link that allows them to sense one another. He is also gifted by Pan, the lord of the wild.\n",
      "Jason Grace: The 16-year-old son of Jupiter who can fly, control winds and lightning, and create storms. He is a natural-born leader and was a praetor before Hera took his memory and sent him to Camp Half-Blood.\n",
      "Hazel Levesque: The 14-year-old daughter of Pluto (the Roman aspect of Hades). She originally lived in the 1940s before dying to stop the rise of Alcyoneus and later being revived by her half-brother Nico. She can control precious metals and stones, navigate underground, and manipulate the Mist.\n",
      "Frank Zhang: The 16-year-old son of Mars, the Roman aspect of Ares and a descendant of Poseidon on his mother's side. He has shapeshifting abilities.\n",
      "Reyna Avila Ramírez-Arellano: The 16-year-old daughter of the Roman goddess of war, Bellona.\n",
      "\n",
      "You are an expert MCQ maker. Given the above text, it is your job to \\ \n",
      "create a quiz of 5 multiple choice questions for fiction students in simple tone.\n",
      "Make sure that the questions are not repeated and check all the questions to be confirming the text as well. \n",
      "Make sure to format your response like RESPONSE_JSON below and use it as a guide. Ensure to make 5 MCQs\n",
      "### RESPONSE_JSON\n",
      "{\"1\": {\"mcq\": \"multiple choice question\", \"options\": {\"a\": \"choice here\", \"b\": \"choice here\", \"c\": \"choice here\", \"d\": \"choice here\"}, \"correct\": \"correct answer\"}, \"2\": {\"mcq\": \"multiple choice question\", \"options\": {\"a\": \"choice here\", \"b\": \"choice here\", \"c\": \"choice here\", \"d\": \"choice here\"}, \"correct\": \"correct answer\"}, \"3\": {\"mcq\": \"multiple choice question\", \"options\": {\"a\": \"choice here\", \"b\": \"choice here\", \"c\": \"choice here\", \"d\": \"choice here\"}, \"correct\": \"correct answer\"}}\n",
      " \n",
      " \u001b[0m\n",
      "\n",
      "\u001b[1m> Finished chain.\u001b[0m\n",
      "\n",
      "\u001b[1m> Finished chain.\u001b[0m\n"
     ]
    }
   ],
   "source": [
    "with get_openai_callback() as cb:\n",
    "    response=generate_evaluate_chain(\n",
    "        {\n",
    "            \"text\": TEXT,\n",
    "            \"number\": NUMBER,\n",
    "            \"subject\":SUBJECT,\n",
    "            \"tone\": TONE,\n",
    "            \"response_json\": json.dumps(RESPONSE_JSON)\n",
    "        }\n",
    "        )"
   ]
  },
  {
   "cell_type": "code",
   "execution_count": 50,
   "metadata": {},
   "outputs": [
    {
     "data": {
      "text/plain": [
       "{'text': 'The Heroes of Olympus is a pentalogy of fantasy-adventure novels written by American author Rick Riordan. The novels detail a conflict between Greek demigods, Roman demigods, and Gaea. In the fourth book of the series, there is also a fight against Tartarus, which, in Greek mythology, was the darkest and deepest point of the Underworld.\\n\\nThe series can be read as a standalone volume, but is meant to be read after Percy Jackson & the Olympians. Riordan introduces Roman mythology in the series alongside several new characters, primarily from the Roman Camp Jupiter. The first book of the series, The Lost Hero, was published on October 12, 2010.[4] The final entry in the series, The Blood of Olympus, was published on October 7, 2014.[5] The story is continued in the sequel series The Trials of Apollo.\\nThe Heroes of Olympus is centered around a prophecy, introduced in The Last Olympian, that predicted seven demigods would unite to protect the world from an awakening new enemy, the Earth goddess Gaea. Demigods from both the Greek camp, Camp Half-Blood, and a newfound Roman camp, Camp Jupiter, unite to save the world from being destroyed by Gaea. The prophecy reads:\\n\\n\"Seven half-bloods shall answer the call\\nTo storm or fire, the world must fall.\\nAn oath to keep with a final breath,\\nAnd foes bear arms to the Doors of Death.\"\\n\\nSeven demigods—Annabeth Chase, Leo Valdez, Percy Jackson and Piper McLean from Camp Half-Blood, with Jason Grace, Frank Zhang, and Hazel Levesque from Camp Jupiter—join forces. Some other important characters are Nico di Angelo, son of Hades; Reyna Avila Ramirez-Arellano, Praetor of Camp Jupiter and daughter of Bellona; and Gleeson Hedge, a satyr.\\nThe novel begins by introducing Jason Grace, Piper McLean and Leo Valdez, three newly discovered demigods who travel to Camp Half-Blood in response to a prophecy. They set off on a quest to prevent the rebirth of the giant king Porphyrion and rescue Piper\\'s father, who has been kidnapped by another giant, Enceladus. Jason, who has amnesia, also begins to remember pieces of his past throughout the book - most importantly, that he comes from a Roman camp for demigods. Camp Half-Blood resolves to seek out this other camp both to gain allies in the fight against Gaea, the giants\\' mother and commander, and to locate the missing demigod Percy Jackson.\\nThe novel opens with Percy Jackson, struck with amnesia, discovering Camp Jupiter and meeting several Roman demigods. After receiving a prophecy from Mars, Percy, Frank Zhang, and Hazel Levesque travel to Alaska to stop the rise of the giant Alcyoneus and free the god Thanatos, whom the giant has captured. After successfully completing their mission, the group returns to Camp Jupiter to defend it from yet another giant, Polybotes, and his army. After repelling this invasion, the demigods from Camp Jupiter go to meet the delegation from Camp Half-Blood arriving in the flying ship known as the Argo II.[6] This book is set in June.\\nAfter the Argo II unintentionally fires on Camp Jupiter, the seven demigods of the \"Prophecy of Seven\" — Percy Jackson, Annabeth Chase, Leo Valdez, Piper McLean, Jason Grace, Frank Zhang, and Hazel Levesque — rush to escape the angered Roman campers. The Argo II is damaged, and the group splits up to find supplies to help Leo fix it. Hazel and Leo go out to try to find Celestial bronze and lime for calcium carbonate when they encounter Nemesis, the universal (meaning Roman and Greek) goddess of revenge. Nemesis\\'s form is different for both Leo and Hazel, Leo seeing his Aunt Rosa and Hazel seeing one of her old teachers. Nemesis tells Leo that the gods are split between their Greek and Roman forms, making them disoriented and confused. This means a civil war is on the rise between the Romans and the Greeks. Nemesis tells Leo that he will be the \"seventh wheel\", and not fit in with the Seven. She also tells Leo that he will stumble upon a problem that he cannot solve. Nemesis offers Leo help — for a price. She leaves Leo and Hazel frazzled, confused, and angry. The Seven travel to Rome, guided by the \"Mark of Athena\", a magical talisman designed to lead children of Athena to the missing Athena Parthenos. During their journey, they hear that Nico di Angelo has been captured by the Aloadae, and go to rescue him. Although they successfully free him and locate the statue, Annabeth and Percy are pulled into Tartarus by Gaea, and Nico promises Percy to get the other demigods to the \"Doors of Death\".[7] This book is set between June and July.\\nIn Tartarus, Percy and Annabeth travel towards the \"Doors of Death\", the only pathway back to the mortal world, with help from Bob the Titan, hoping to escape and simultaneously stop more monsters from getting through. In the mortal world, the remaining demigods search for the mortal side of the Doors to help open them. They also meet with Reyna Avila Ramírez-Arellano, a Roman demigod; she, Nico, and Coach Hedge leave with the Athena Parthenos from Epirus, Greece, and Shadow Travel to Camp Half-Blood. Once reunited, the original seven sail for Greece, where they expect Gaea\\'s main force will gather.[8] This book is set in the first half of July.\\nPercy Jackson: The 16-year-old son of Poseidon from Camp Half-Blood. He is the narrator and main protagonist of the preceding series Percy Jackson & the Olympians. In The Son of Neptune, he is depicted fighting amnesia, given to him by the goddess Hera, during which his only memory is his girlfriend, Annabeth Chase.\\nAnnabeth Chase: The 16-year-old daughter of Athena, credited as \"the smartest girl in camp\" by Percy. She is also a gifted and dedicated architect.\\nPiper McLean: The 15-year-old daughter of Aphrodite. She is one of the few children of Aphrodite who have the rare hereditary gift of \"charmspeak\" (the ability to magically convince people to do what the person in question says) and is described as beautiful by Jason Grace. She carries a knife called Katoptris (previously owned by Helen of Troy) that shows her visions of the future. She begins dating Jason during the series.\\nLeo Valdez: The 15-year-old son of Hephaestus who can summon and control fire, a rare ability. He is famous among his cabinmates for repairing the automated bronze dragon Festus, who had given more experienced campers life-altering disabilities. He leads the building of the Argo II.\\nNico di Angelo: The 14-year-old son of Hades. Born in the 1930s in Italy, his father Hades sent him and his sister to the Lotus Hotel and Casino, that sucked them out of time for decades, so he only feels and looks 14. He was the only demigod who had knowledge of both camps before the war.\\nGleeson Hedge: A middle-aged satyr, formerly a coach at the Wilderness School. He joins the crew of the Argo II as the self-appointed chaperone.\\nThalia Grace: Lieutenant to Artemis and the Hunters of Artemis, who physically appears to be about 15. Was killed and her soul preserved as a tree prior to and during the first and second books of Percy Jackson and the Olympians. She is Jason Grace\\'s biological sister, but a daughter of Zeus rather than Jupiter (Jupiter and Zeus are the same god in different aspects, making Jason a child of Rome and Thalia a child of Greece).\\nTyson: Percy\\'s half-brother, and a cyclops. He loves peanut butter and is the boyfriend of Ella the harpy.\\nRachel Elizabeth Dare: Camp Half-Blood\\'s oracle. She is neither a demigod nor a legacy, but a regular mortal human who was born with the gift to see through the Mist. She is the current Oracle, being a vessel for the Spirit of Delphi.\\nGrover Underwood: Percy\\'s best friend, and a satyr; he and Percy have an empathy link that allows them to sense one another. He is also gifted by Pan, the lord of the wild.\\nJason Grace: The 16-year-old son of Jupiter who can fly, control winds and lightning, and create storms. He is a natural-born leader and was a praetor before Hera took his memory and sent him to Camp Half-Blood.\\nHazel Levesque: The 14-year-old daughter of Pluto (the Roman aspect of Hades). She originally lived in the 1940s before dying to stop the rise of Alcyoneus and later being revived by her half-brother Nico. She can control precious metals and stones, navigate underground, and manipulate the Mist.\\nFrank Zhang: The 16-year-old son of Mars, the Roman aspect of Ares and a descendant of Poseidon on his mother\\'s side. He has shapeshifting abilities.\\nReyna Avila Ramírez-Arellano: The 16-year-old daughter of the Roman goddess of war, Bellona.\\n',\n",
       " 'number': 5,\n",
       " 'subject': 'fiction',\n",
       " 'tone': 'simple',\n",
       " 'response_json': '{\"1\": {\"mcq\": \"multiple choice question\", \"options\": {\"a\": \"choice here\", \"b\": \"choice here\", \"c\": \"choice here\", \"d\": \"choice here\"}, \"correct\": \"correct answer\"}, \"2\": {\"mcq\": \"multiple choice question\", \"options\": {\"a\": \"choice here\", \"b\": \"choice here\", \"c\": \"choice here\", \"d\": \"choice here\"}, \"correct\": \"correct answer\"}, \"3\": {\"mcq\": \"multiple choice question\", \"options\": {\"a\": \"choice here\", \"b\": \"choice here\", \"c\": \"choice here\", \"d\": \"choice here\"}, \"correct\": \"correct answer\"}}',\n",
       " 'quiz': '\\n{\\n\"1\": {\\n\"mcq\": \"Who is the main protagonist of The Heroes of Olympus series?\",\\n\"options\": {\\n\"a\": \"Piper McLean\",\\n\"b\": \"Leo Valdez\",\\n\"c\": \"Annabeth Chase\",\\n\"d\": \"Percy Jackson\"\\n},\\n\"correct\": \"d\"\\n},\\n\"2\": {\\n\"mcq\": \"What is the rare hereditary gift that Piper McLean possesses?\",\\n\"options\": {\\n\"a\": \"Telekinesis\",\\n\"b\": \"Charmspeak\",\\n\"c\": \"Invisibility\",\\n\"d\": \"Shape-shifting\"\\n},\\n\"correct\": \"b\"\\n},\\n\"3\": {\\n\"mcq\": \"Which character can summon and control fire in the series?\",\\n\"options\": {\\n\"a\": \"Nico di Angelo\",\\n\"b\": \"Jason Grace\",\\n\"c\": \"Hazel Levesque\",\\n\"d\": \"Frank Zhang\"\\n},\\n\"correct\": \"b\"\\n},\\n\"4\": {\\n\"mcq\": \"Who is the daughter of the Roman goddess of war, Bellona?\",\\n\"options\": {\\n\"a\": \"Reyna Avila Ramírez-Arellano\",\\n\"b\": \"Thalia Grace\",\\n\"c\": \"Rachel Elizabeth Dare\",\\n\"d\": \"Grover Underwood\"\\n},\\n\"correct\": \"a\"\\n},\\n\"5\": {\\n\"mcq\": \"What is the main enemy that the demigods unite to protect the world from in The Heroes of Olympus series?\",\\n\"options\": {\\n\"a\": \"Hades\",\\n\"b\": \"Zeus\",\\n\"c\": \"Gaea\",\\n\"d\": \"Ares\"\\n},\\n\"correct\": \"c\"\\n}\\n}',\n",
       " 'review': '### RESPONSE_JSON\\n{\"1\": {\"mcq\": \"Who is the narrator and main protagonist of the preceding series Percy Jackson & the Olympians?\", \"options\": {\"a\": \"Annabeth Chase\", \"b\": \"Leo Valdez\", \"c\": \"Percy Jackson\", \"d\": \"Jason Grace\"}, \"correct\": \"c\"}, \\n\"2\": {\"mcq\": \"Which character is known for their ability to magically convince people to do what they say?\", \"options\": {\"a\": \"Jason Grace\", \"b\": \"Leo Valdez\", \"c\": \"Piper McLean\", \"d\": \"Nico di Angelo\"}, \"correct\": \"c\"}, \\n\"3\": {\"mcq\": \"Who is the 16-year-old daughter of the Roman goddess of war, Bellona?\", \"options\": {\"a\": \"Annabeth Chase\", \"b\": \"Reyna Avila Ramírez-Arellano\", \"c\": \"Hazel Levesque\", \"d\": \"Piper McLean\"}, \"correct\": \"b\"}, \\n\"4\": {\"mcq\": \"Which character can summon and control fire, a rare ability?\", \"options\": {\"a\": \"Annabeth Chase\", \"b\": \"Leo Valdez\", \"c\": \"Frank Zhang\", \"d\": \"Thalia Grace\"}, \"correct\": \"b\"}, \\n\"5\": {\"mcq\": \"Who is the 14-year-old son of Hades?\", \"options\": {\"a\": \"Nico di Angelo\", \"b\": \"Frank Zhang\", \"c\": \"Jason Grace\", \"d\": \"Percy Jackson\"}, \"correct\": \"a\"}}'}"
      ]
     },
     "execution_count": 50,
     "metadata": {},
     "output_type": "execute_result"
    }
   ],
   "source": [
    "response"
   ]
  },
  {
   "cell_type": "code",
   "execution_count": 51,
   "metadata": {},
   "outputs": [],
   "source": [
    "quiz= response.get(\"quiz\")"
   ]
  },
  {
   "cell_type": "code",
   "execution_count": 52,
   "metadata": {},
   "outputs": [],
   "source": [
    "quiz=json.loads(quiz)"
   ]
  },
  {
   "cell_type": "code",
   "execution_count": 53,
   "metadata": {},
   "outputs": [],
   "source": [
    "quiz_table_data = []\n",
    "for key, value in quiz.items():\n",
    "    mcq = value[\"mcq\"]\n",
    "    options = \" | \".join(\n",
    "        [\n",
    "            f\"{option}: {option_value}\"\n",
    "            for option, option_value in value[\"options\"].items()\n",
    "            ]\n",
    "        )\n",
    "    correct = value[\"correct\"]\n",
    "    quiz_table_data.append({\"MCQ\": mcq, \"Choices\": options, \"Correct\": correct})"
   ]
  },
  {
   "cell_type": "code",
   "execution_count": 54,
   "metadata": {},
   "outputs": [
    {
     "data": {
      "text/plain": [
       "[{'MCQ': 'Who is the main protagonist of The Heroes of Olympus series?',\n",
       "  'Choices': 'a: Piper McLean | b: Leo Valdez | c: Annabeth Chase | d: Percy Jackson',\n",
       "  'Correct': 'd'},\n",
       " {'MCQ': 'What is the rare hereditary gift that Piper McLean possesses?',\n",
       "  'Choices': 'a: Telekinesis | b: Charmspeak | c: Invisibility | d: Shape-shifting',\n",
       "  'Correct': 'b'},\n",
       " {'MCQ': 'Which character can summon and control fire in the series?',\n",
       "  'Choices': 'a: Nico di Angelo | b: Jason Grace | c: Hazel Levesque | d: Frank Zhang',\n",
       "  'Correct': 'b'},\n",
       " {'MCQ': 'Who is the daughter of the Roman goddess of war, Bellona?',\n",
       "  'Choices': 'a: Reyna Avila Ramírez-Arellano | b: Thalia Grace | c: Rachel Elizabeth Dare | d: Grover Underwood',\n",
       "  'Correct': 'a'},\n",
       " {'MCQ': 'What is the main enemy that the demigods unite to protect the world from in The Heroes of Olympus series?',\n",
       "  'Choices': 'a: Hades | b: Zeus | c: Gaea | d: Ares',\n",
       "  'Correct': 'c'}]"
      ]
     },
     "execution_count": 54,
     "metadata": {},
     "output_type": "execute_result"
    }
   ],
   "source": [
    "quiz_table_data"
   ]
  },
  {
   "cell_type": "code",
   "execution_count": 57,
   "metadata": {},
   "outputs": [
    {
     "data": {
      "text/html": [
       "<div>\n",
       "<style scoped>\n",
       "    .dataframe tbody tr th:only-of-type {\n",
       "        vertical-align: middle;\n",
       "    }\n",
       "\n",
       "    .dataframe tbody tr th {\n",
       "        vertical-align: top;\n",
       "    }\n",
       "\n",
       "    .dataframe thead th {\n",
       "        text-align: right;\n",
       "    }\n",
       "</style>\n",
       "<table border=\"1\" class=\"dataframe\">\n",
       "  <thead>\n",
       "    <tr style=\"text-align: right;\">\n",
       "      <th></th>\n",
       "      <th>MCQ</th>\n",
       "      <th>Choices</th>\n",
       "      <th>Correct</th>\n",
       "    </tr>\n",
       "  </thead>\n",
       "  <tbody>\n",
       "    <tr>\n",
       "      <th>0</th>\n",
       "      <td>Who is the main protagonist of The Heroes of O...</td>\n",
       "      <td>a: Piper McLean | b: Leo Valdez | c: Annabeth ...</td>\n",
       "      <td>d</td>\n",
       "    </tr>\n",
       "    <tr>\n",
       "      <th>1</th>\n",
       "      <td>What is the rare hereditary gift that Piper Mc...</td>\n",
       "      <td>a: Telekinesis | b: Charmspeak | c: Invisibili...</td>\n",
       "      <td>b</td>\n",
       "    </tr>\n",
       "    <tr>\n",
       "      <th>2</th>\n",
       "      <td>Which character can summon and control fire in...</td>\n",
       "      <td>a: Nico di Angelo | b: Jason Grace | c: Hazel ...</td>\n",
       "      <td>b</td>\n",
       "    </tr>\n",
       "    <tr>\n",
       "      <th>3</th>\n",
       "      <td>Who is the daughter of the Roman goddess of wa...</td>\n",
       "      <td>a: Reyna Avila Ramírez-Arellano | b: Thalia Gr...</td>\n",
       "      <td>a</td>\n",
       "    </tr>\n",
       "    <tr>\n",
       "      <th>4</th>\n",
       "      <td>What is the main enemy that the demigods unite...</td>\n",
       "      <td>a: Hades | b: Zeus | c: Gaea | d: Ares</td>\n",
       "      <td>c</td>\n",
       "    </tr>\n",
       "  </tbody>\n",
       "</table>\n",
       "</div>"
      ],
      "text/plain": [
       "                                                 MCQ  \\\n",
       "0  Who is the main protagonist of The Heroes of O...   \n",
       "1  What is the rare hereditary gift that Piper Mc...   \n",
       "2  Which character can summon and control fire in...   \n",
       "3  Who is the daughter of the Roman goddess of wa...   \n",
       "4  What is the main enemy that the demigods unite...   \n",
       "\n",
       "                                             Choices Correct  \n",
       "0  a: Piper McLean | b: Leo Valdez | c: Annabeth ...       d  \n",
       "1  a: Telekinesis | b: Charmspeak | c: Invisibili...       b  \n",
       "2  a: Nico di Angelo | b: Jason Grace | c: Hazel ...       b  \n",
       "3  a: Reyna Avila Ramírez-Arellano | b: Thalia Gr...       a  \n",
       "4             a: Hades | b: Zeus | c: Gaea | d: Ares       c  "
      ]
     },
     "execution_count": 57,
     "metadata": {},
     "output_type": "execute_result"
    }
   ],
   "source": [
    "pd.DataFrame(quiz_table_data)"
   ]
  },
  {
   "cell_type": "code",
   "execution_count": 58,
   "metadata": {},
   "outputs": [],
   "source": [
    "quiz= pd.DataFrame(quiz_table_data)"
   ]
  },
  {
   "cell_type": "code",
   "execution_count": 59,
   "metadata": {},
   "outputs": [],
   "source": [
    "quiz.to_csv(\"percy.csv\",index=False)\n"
   ]
  },
  {
   "cell_type": "code",
   "execution_count": null,
   "metadata": {},
   "outputs": [],
   "source": []
  }
 ],
 "metadata": {
  "kernelspec": {
   "display_name": "Python 3",
   "language": "python",
   "name": "python3"
  },
  "language_info": {
   "codemirror_mode": {
    "name": "ipython",
    "version": 3
   },
   "file_extension": ".py",
   "mimetype": "text/x-python",
   "name": "python",
   "nbconvert_exporter": "python",
   "pygments_lexer": "ipython3",
   "version": "3.8.19"
  }
 },
 "nbformat": 4,
 "nbformat_minor": 2
}
